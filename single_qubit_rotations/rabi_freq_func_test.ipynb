{
 "cells": [
  {
   "cell_type": "code",
   "execution_count": 1,
   "metadata": {},
   "outputs": [
    {
     "name": "stdout",
     "output_type": "stream",
     "text": [
      "  7.907882 seconds (14.82 M allocations: 953.520 MiB, 7.61% gc time, 99.85% compilation time)\n"
     ]
    }
   ],
   "source": [
    "# Run this cell to test if the LinearChain object is gonna give us a headache.\n",
    "using IonSim\n",
    "\n",
    "@time chain = LinearChain(\n",
    "        ions=[Ca40([(\"S1/2\", -1/2, \"S\"), (\"D5/2\", -1/2, \"D\")]), Ca40([(\"S1/2\", -1/2, \"S\"), (\"D5/2\", -1/2, \"D\")])], \n",
    "        comfrequencies=(x=3e6,y=3e6,z=2.5e5), selectedmodes=(;z=[1],)\n",
    "    )\n",
    "chain = Nothing;"
   ]
  },
  {
   "cell_type": "code",
   "execution_count": 2,
   "metadata": {},
   "outputs": [],
   "source": [
    "using QuantumOptics\n",
    "using IonSim\n",
    "import PyPlot\n",
    "using Random, Distributions\n",
    "Random.seed!(0)\n",
    "\n",
    "include(\"./single_qubit_chamber.jl\")\n",
    "using .SingleQubitChamber: construct_single_qubit_chamber, RX, RY, RZ\n",
    "const plt = PyPlot;"
   ]
  },
  {
   "cell_type": "markdown",
   "metadata": {},
   "source": [
    "Globals"
   ]
  },
  {
   "cell_type": "code",
   "execution_count": 3,
   "metadata": {},
   "outputs": [],
   "source": [
    "using .SingleQubitChamber: CALCIUM40 \n",
    "TIMESCALE = 1e-6 \n",
    "TRAP_FREQUENCY = 1e6\n",
    "B_STRENGTH = 4e-4\n",
    "PI_TIME = 2e-6;"
   ]
  },
  {
   "cell_type": "markdown",
   "metadata": {},
   "source": [
    "More globals"
   ]
  },
  {
   "cell_type": "code",
   "execution_count": 4,
   "metadata": {},
   "outputs": [
    {
     "name": "stdout",
     "output_type": "stream",
     "text": [
      "  1.627522 seconds (2.15 M allocations: 137.805 MiB, 2.79% gc time, 99.87% compilation time: 99% of which was recompilation)\n"
     ]
    }
   ],
   "source": [
    "@time chain = LinearChain(\n",
    "        ions = [CALCIUM40], \n",
    "        comfrequencies = (x = 3e6, y = 3e6, z = TRAP_FREQUENCY), \n",
    "        selectedmodes = (;z = [1],)\n",
    "    )\n",
    "\n",
    "laser = Laser(Δ=0, ϵ = (x̂ - ẑ)/√2, k = (x̂ + ẑ)/√2, ϕ = 0)\n",
    "chamber = Chamber(iontrap=chain, B=B_STRENGTH, Bhat=ẑ, δB=0, lasers=[laser]);\n",
    "\n",
    "WAVELENGTH = transitionwavelength(CALCIUM40, (\"S\", \"D\"), chamber)\n",
    "wavelength!(laser, WAVELENGTH)\n",
    "\n",
    "INTENSITY = intensity_from_pitime(laser, PI_TIME, CALCIUM40, (\"S\", \"D\"), chamber);\n",
    "\n",
    "Z_PLUS = CALCIUM40[\"S\"]\n",
    "VIB_MODE =  IonSim.modes(chamber)[1]\n",
    "ψ0_MOTIONAL = VIB_MODE[0] # GLOBAL: ground state of the first vibrational mode\n",
    "\n",
    "chain = Nothing\n",
    "laser = Nothing\n",
    "chamber = Nothing;"
   ]
  },
  {
   "cell_type": "markdown",
   "metadata": {},
   "source": [
    "Helper function for plotting"
   ]
  },
  {
   "cell_type": "code",
   "execution_count": 5,
   "metadata": {},
   "outputs": [
    {
     "data": {
      "text/plain": [
       "plot_populations (generic function with 1 method)"
      ]
     },
     "metadata": {},
     "output_type": "display_data"
    }
   ],
   "source": [
    "function plot_populations(chamber, tout, sol)\n",
    "    vibrational_mode = modes(chamber)[1]\n",
    "\n",
    "    Z_plus = CALCIUM40[\"S\"]\n",
    "    Z_minus = CALCIUM40[\"D\"]\n",
    "\n",
    "    X_plus = (Z_plus + Z_minus)/√2\n",
    "    X_minus = (Z_plus - Z_minus)/√2\n",
    "\n",
    "    Y_plus = (Z_plus + im*Z_minus)/√2\n",
    "    Y_minus = (Z_plus - im*Z_minus)/√2\n",
    "\n",
    "    prob_X_plus = expect(dm(X_plus) ⊗ one(vibrational_mode), sol)\n",
    "    prob_X_minus = expect(dm(X_minus) ⊗ one(vibrational_mode), sol)\n",
    "    prob_Y_plus = expect(dm(Y_plus) ⊗ one(vibrational_mode), sol)\n",
    "    prob_Y_minus = expect(dm(Y_minus) ⊗ one(vibrational_mode), sol)\n",
    "    prob_Z_plus = expect(dm(Z_plus) ⊗ one(vibrational_mode), sol)\n",
    "    prob_Z_minus = expect(dm(Z_minus) ⊗ one(vibrational_mode), sol)\n",
    "\n",
    "    fig, (x_ax, y_ax, z_ax) = plt.subplots(1, 3, figsize=(15, 5))\n",
    "    x_ax.plot(tout, prob_X_plus, label=\"|X+⟩\", linewidth=4)\n",
    "    x_ax.plot(tout, prob_X_minus, \"--\", label=\"|X-⟩\", linewidth=4)\n",
    "    x_ax.set_xlim(tout[1], tout[end])\n",
    "    x_ax.set_ylim(0, 1)\n",
    "    x_ax.legend(loc=1)\n",
    "    x_ax.set_xlabel(\"Time (μs)\")\n",
    "\n",
    "    y_ax.plot(tout, prob_Y_plus, label=\"|Y+⟩\", linewidth=4)\n",
    "    y_ax.plot(tout, prob_Y_minus, \"--\", label=\"|Y-⟩\", linewidth=4)\n",
    "    y_ax.set_xlim(tout[1], tout[end])\n",
    "    y_ax.set_ylim(0, 1)\n",
    "    y_ax.legend(loc=1)\n",
    "    y_ax.set_xlabel(\"Time (μs)\")\n",
    "\n",
    "    z_ax.plot(tout, prob_Z_plus, label=\"|Z+⟩\", linewidth=4)\n",
    "    z_ax.plot(tout, prob_Z_minus, \"--\", label=\"|Z-⟩\", linewidth=4)\n",
    "    z_ax.set_xlim(tout[1], tout[end])\n",
    "    z_ax.set_ylim(0, 1)\n",
    "    z_ax.legend(loc=1)\n",
    "    z_ax.set_xlabel(\"Time (μs)\")\n",
    "\n",
    "    return fig\n",
    "end"
   ]
  },
  {
   "cell_type": "markdown",
   "metadata": {},
   "source": [
    "To check that our $\\texttt{find\\_rabi\\_freq}$ function works...\n",
    "\n",
    "If it's doing what we think it does, then it should return a Rabi frequency which, when given to the built-in IonSim $\\texttt{intensity\\_from\\_rabifrequency}$ function, should return the same value for intensity."
   ]
  },
  {
   "cell_type": "code",
   "execution_count": 67,
   "metadata": {},
   "outputs": [
    {
     "name": "stdout",
     "output_type": "stream",
     "text": [
      "Function output: 4.123759471808808e6\n",
      "Original intensity: 4.123759471808808e6"
     ]
    }
   ],
   "source": [
    "function find_rabi_freq(tout, sol, timescale)\n",
    "    prob_Z_plus = expect(dm(Z_PLUS) ⊗ one(VIB_MODE), sol);\n",
    "    prob_Z_plus_1up = broadcast(abs, prob_Z_plus[2:end]);\n",
    "    max_prob_idx = findall(broadcast(abs, prob_Z_plus_1up.-maximum(prob_Z_plus_1up)) .< 1e-8)[1];\n",
    "    period = tout[max_prob_idx+1]-tout[1];\n",
    "    period *= timescale\n",
    "    freq = 1/period\n",
    "    return freq\n",
    "end\n",
    "\n",
    "chamber = construct_single_qubit_chamber(\n",
    "    TRAP_FREQUENCY,\n",
    "    INTENSITY,\n",
    "    WAVELENGTH,\n",
    "    PI_TIME,\n",
    "    B_STRENGTH\n",
    ")\n",
    "\n",
    "# Initial state\n",
    "ψ0_electronic = CALCIUM40[\"S\"]\n",
    "ψ0 = Z_PLUS ⊗ ψ0_MOTIONAL# GLOBAL: initial state for all the simulations\n",
    "\n",
    "# RX(2π)\n",
    "tout, ψt = RX(2π, chamber, ψ0, PI_TIME, TIMESCALE);\n",
    "\n",
    "omega_func = find_rabi_freq(tout, ψt, TIMESCALE)\n",
    "print(\"Function output: \", intensity_from_rabifrequency(chamber.lasers[1], omega_func, CALCIUM40, (\"S\", \"D\"), chamber))\n",
    "print(\"\\nOriginal intensity: \", INTENSITY)\n"
   ]
  },
  {
   "cell_type": "markdown",
   "metadata": {},
   "source": [
    "Cool, so it works. Now, we can estimate $\\sigma_I$.\n",
    "\n",
    "\n",
    "\n",
    "\n",
    "$\\sigma_\\Omega^2 = E[\\Omega^2] - E^2[\\Omega]$"
   ]
  }
 ],
 "metadata": {
  "kernelspec": {
   "display_name": "Julia 1.10.2",
   "language": "julia",
   "name": "julia-1.10"
  },
  "language_info": {
   "file_extension": ".jl",
   "mimetype": "application/julia",
   "name": "julia",
   "version": "1.10.2"
  }
 },
 "nbformat": 4,
 "nbformat_minor": 4
}
